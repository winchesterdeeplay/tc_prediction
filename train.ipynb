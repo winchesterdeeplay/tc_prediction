{
  "cells": [
    {
      "cell_type": "code",
      "execution_count": 1,
      "metadata": {},
      "outputs": [],
      "source": [
        "import pandas as pd\n",
        "import warnings\n",
        "warnings.filterwarnings('ignore')\n",
        "\n",
        "from train_data_processing import DataProcessor\n",
        "from model_training import ModelTrainer\n",
        "from model_evaluation import ModelEvaluator\n"
      ]
    },
    {
      "cell_type": "code",
      "execution_count": 2,
      "metadata": {},
      "outputs": [
        {
          "name": "stdout",
          "output_type": "stream",
          "text": [
            "  📅 Горизонты прогноза: 4 (от 6 до 72 часов)\n",
            "  🎯 Стратегия весов: balanced_horizon\n",
            "  🧠 Итераций CatBoost: 2000\n",
            "  📊 Разделение данных: Train≤2018, Val=2019-2019, Test>2019\n"
          ]
        }
      ],
      "source": [
        "config = {\n",
        "    'data_processing': {\n",
        "        'horizons_hours': [6, 12, 48, 72],\n",
        "        'train_max_year': 2018,\n",
        "        'val_max_year': 2019,\n",
        "        'validate_data': True\n",
        "    },\n",
        "    'model_training': {\n",
        "        'use_weights': True,\n",
        "        'weight_strategy': 'balanced_horizon',\n",
        "        'model_params': {\n",
        "            'iterations': 2000,\n",
        "            'learning_rate': 0.05,\n",
        "            'depth': 12,\n",
        "            'early_stopping_rounds': 200,\n",
        "            'verbose': 100\n",
        "        }\n",
        "    },\n",
        "    'evaluation': {\n",
        "        'verbose': True\n",
        "    }\n",
        "}\n",
        "\n",
        "print(f\"  📅 Горизонты прогноза: {len(config['data_processing']['horizons_hours'])} (от {min(config['data_processing']['horizons_hours'])} до {max(config['data_processing']['horizons_hours'])} часов)\")\n",
        "print(f\"  🎯 Стратегия весов: {config['model_training']['weight_strategy']}\")\n",
        "print(f\"  🧠 Итераций CatBoost: {config['model_training']['model_params']['iterations']}\")\n",
        "print(f\"  📊 Разделение данных: Train≤{config['data_processing']['train_max_year']}, Val={config['data_processing']['train_max_year']+1}-{config['data_processing']['val_max_year']}, Test>{config['data_processing']['val_max_year']}\")\n"
      ]
    },
    {
      "cell_type": "code",
      "execution_count": 3,
      "metadata": {},
      "outputs": [],
      "source": [
        "model_trainer = ModelTrainer(\n",
        "    model_params=config['model_training']['model_params'],\n",
        "    use_weights=config['model_training']['use_weights'],\n",
        "    weight_strategy=config['model_training']['weight_strategy'],\n",
        "    verbose=True\n",
        ")\n",
        "\n",
        "model_evaluator = ModelEvaluator()\n"
      ]
    },
    {
      "cell_type": "code",
      "execution_count": 4,
      "metadata": {},
      "outputs": [
        {
          "name": "stdout",
          "output_type": "stream",
          "text": [
            "📊 Загружено 70,217 записей\n"
          ]
        }
      ],
      "source": [
        "df = pd.read_csv(\"bst_data/bst_all.csv\", parse_dates=[\"analysis_time\"])\n",
        "print(f\"📊 Загружено {len(df):,} записей\")"
      ]
    },
    {
      "cell_type": "code",
      "execution_count": 5,
      "metadata": {},
      "outputs": [
        {
          "name": "stdout",
          "output_type": "stream",
          "text": [
            "🔄 Начинаем обработку данных...\n",
            "📊 Вычисляем признаки...\n"
          ]
        },
        {
          "name": "stderr",
          "output_type": "stream",
          "text": [
            "Calculating features: 100%|██████████| 70217/70217 [01:33<00:00, 747.96it/s]\n"
          ]
        },
        {
          "name": "stdout",
          "output_type": "stream",
          "text": [
            "🎯 Создаем датасет...\n",
            "⚠️ Предупреждение: найдено 15307 экстремальных смещений по широте (>10°)\n",
            "⚠️ Предупреждение: найдено 6224 экстремальных смещений по долготе (>20°)\n",
            "✂️ Разделяем данные...\n",
            "\n",
            "📊 ИТОГОВАЯ ИНФОРМАЦИЯ О ПАРАМЕТРИЗОВАННОМ ДАТАСЕТЕ:\n",
            "  • Примеров для обучения: 230,894\n",
            "  • Признаков (43): ['target_time_hours', 'latitude_prev', 'longitude_prev', 'dt_prev_h', 'speed_prev', 'direction_prev', 'latitude_prev2', 'longitude_prev2', 'dt_prev_h2', 'speed_prev2', 'direction_prev2', 'latitude_prev3', 'longitude_prev3', 'dt_prev_h3', 'speed_prev3', 'direction_prev3', 'acceleration', 'curvature', 'direction_change', 'jerk', 'abs_latitude', 'abs_longitude', 'distance_from_equator', 'day_of_year', 'sin_day', 'cos_day', 'month_of_year', 'sin_month', 'cos_month', 'grade', 'pressure_prev', 'pressure_change', 'pressure_trend3', 'wind_radius50', 'wind_radius30', 'wind_asymmetry50', 'cyclone_age', 'speed_mean3', 'speed_std3', 'pressure_mean3', 'speed_pressure', 'lat_pressure', 'size_speed_interaction']\n",
            "  • Целевых переменных (2): ['dlat_target', 'dlon_target']\n",
            "\n",
            "📈 РАЗДЕЛЕНИЕ ДАННЫХ:\n",
            "  • Train размер: 214,791\n",
            "  • Val   размер: 3,355\n",
            "  • Test  размер: 12,748\n",
            "  • Годы Train: 1951 — 2018\n",
            "  • Годы Val  : 2019 — 2019\n",
            "  • Годы Test : 2020 — 2024\n",
            "\n",
            "🎯 РАСПРЕДЕЛЕНИЕ ПО ГОРИЗОНТАМ ПРОГНОЗА:\n",
            "  •  6ч: 67,748 примеров ( 29.3%)\n",
            "  • 12ч: 65,485 примеров ( 28.4%)\n",
            "  • 48ч: 52,782 примеров ( 22.9%)\n",
            "  • 72ч: 44,879 примеров ( 19.4%)\n"
          ]
        }
      ],
      "source": [
        "data_processor = DataProcessor(**config['data_processing'])\n",
        "data = data_processor.process_full_pipeline(df)"
      ]
    },
    {
      "cell_type": "code",
      "execution_count": 6,
      "metadata": {},
      "outputs": [
        {
          "name": "stdout",
          "output_type": "stream",
          "text": [
            "✅ Обработка данных завершена успешно!\n",
            "📈 Готово для обучения: 214,791 train + 3,355 val + 12,748 test\n"
          ]
        }
      ],
      "source": [
        "X_train = data['X_train']\n",
        "y_train = data['y_train']\n",
        "X_val = data['X_val']\n",
        "y_val = data['y_val']\n",
        "X_test = data['X_test']\n",
        "y_test = data['y_test']\n",
        "\n",
        "print(\"✅ Обработка данных завершена успешно!\")\n",
        "print(f\"📈 Готово для обучения: {len(X_train):,} train + {len(X_val):,} val + {len(X_test):,} test\")\n"
      ]
    },
    {
      "cell_type": "code",
      "execution_count": null,
      "metadata": {},
      "outputs": [
        {
          "name": "stdout",
          "output_type": "stream",
          "text": [
            "📊 Обучающих примеров: 214,791\n",
            "📊 Признаков: 43\n",
            "📈 Примеры по горизонтам:\n",
            "     6ч: 62,945 примеров\n",
            "    12ч: 60,866 примеров\n",
            "    48ч: 49,145 примеров\n",
            "    72ч: 41,835 примеров\n",
            "⚖️ Используются веса (balanced_horizon):\n",
            "   Мин. вес: 0.853, Макс. вес: 1.284\n",
            "   Средний вес: 1.000\n",
            "0:\tlearn: 8.9284436\ttest: 8.2038516\tbest: 8.2038516 (0)\ttotal: 393ms\tremaining: 13m 5s\n",
            "100:\tlearn: 4.9395072\ttest: 4.3116830\tbest: 4.3116830 (100)\ttotal: 21.5s\tremaining: 6m 44s\n",
            "200:\tlearn: 4.4419830\ttest: 4.2564846\tbest: 4.2556635 (199)\ttotal: 44.6s\tremaining: 6m 39s\n",
            "300:\tlearn: 4.0691505\ttest: 4.2315605\tbest: 4.2262691 (275)\ttotal: 1m 6s\tremaining: 6m 14s\n",
            "400:\tlearn: 3.7666038\ttest: 4.2270568\tbest: 4.2251685 (379)\ttotal: 1m 27s\tremaining: 5m 49s\n",
            "500:\tlearn: 3.5177751\ttest: 4.2222298\tbest: 4.2186122 (449)\ttotal: 1m 48s\tremaining: 5m 24s\n"
          ]
        }
      ],
      "source": [
        "model = model_trainer.train(X_train, y_train, X_val, y_val)\n",
        "print(\"\\n✅ Обучение завершено!\")"
      ]
    },
    {
      "cell_type": "code",
      "execution_count": 8,
      "metadata": {},
      "outputs": [
        {
          "name": "stdout",
          "output_type": "stream",
          "text": [
            "📊 Оценка качества модели на тестовых данных...\n",
            "\n"
          ]
        },
        {
          "ename": "NameError",
          "evalue": "name 'model' is not defined",
          "output_type": "error",
          "traceback": [
            "\u001b[31m---------------------------------------------------------------------------\u001b[39m",
            "\u001b[31mNameError\u001b[39m                                 Traceback (most recent call last)",
            "\u001b[36mCell\u001b[39m\u001b[36m \u001b[39m\u001b[32mIn[8]\u001b[39m\u001b[32m, line 10\u001b[39m\n\u001b[32m      6\u001b[39m horizons = \u001b[38;5;28msorted\u001b[39m(X_test[\u001b[33m\"\u001b[39m\u001b[33mtarget_time_hours\u001b[39m\u001b[33m\"\u001b[39m].unique())\n\u001b[32m      8\u001b[39m \u001b[38;5;66;03m# Оцениваем модель на всех горизонтах\u001b[39;00m\n\u001b[32m      9\u001b[39m results = model_evaluator.evaluate_all_horizons(\n\u001b[32m---> \u001b[39m\u001b[32m10\u001b[39m     \u001b[43mmodel\u001b[49m, X_test, y_test, horizons, verbose=\u001b[38;5;28;01mTrue\u001b[39;00m\n\u001b[32m     11\u001b[39m )\n\u001b[32m     13\u001b[39m \u001b[38;5;66;03m# Вычисляем сводные метрики\u001b[39;00m\n\u001b[32m     14\u001b[39m summary = model_evaluator.calculate_summary_metrics(results)\n",
            "\u001b[31mNameError\u001b[39m: name 'model' is not defined"
          ]
        }
      ],
      "source": [
        "# ===== ОЦЕНКА КАЧЕСТВА МОДЕЛИ =====\n",
        "\n",
        "print(\"📊 Оценка качества модели на тестовых данных...\\n\")\n",
        "\n",
        "# Получаем список горизонтов из тестовых данных\n",
        "horizons = sorted(X_test[\"target_time_hours\"].unique())\n",
        "\n",
        "# Оцениваем модель на всех горизонтах\n",
        "results = model_evaluator.evaluate_all_horizons(\n",
        "    model, X_test, y_test, horizons, verbose=True\n",
        ")\n",
        "\n",
        "# Вычисляем сводные метрики\n",
        "summary = model_evaluator.calculate_summary_metrics(results)\n",
        "\n",
        "print(\"\\n📋 СВОДНЫЕ МЕТРИКИ:\")\n",
        "print(f\"  Всего примеров: {summary['total_samples']:,}\")\n",
        "print(f\"  Средняя ошибка: {summary['avg_mean_km']:.1f} км\")\n",
        "print(f\"  Медианная ошибка: {summary['avg_median_km']:.1f} км\")\n",
        "print(f\"  Макс. ошибка: {summary['max_error_km']:.1f} км\")\n",
        "print(f\"  Точность @50км: {summary['avg_p50']:.1f}%\")\n",
        "print(f\"  Точность @100км: {summary['avg_p100']:.1f}%\")\n",
        "print(f\"  Точность @300км: {summary['avg_p300']:.1f}%\")\n"
      ]
    },
    {
      "cell_type": "code",
      "execution_count": 9,
      "metadata": {},
      "outputs": [
        {
          "name": "stdout",
          "output_type": "stream",
          "text": [
            "📊 Создан тестовый датасет с метаданными: 12748 записей\n"
          ]
        },
        {
          "ename": "NameError",
          "evalue": "name 'model' is not defined",
          "output_type": "error",
          "traceback": [
            "\u001b[31m---------------------------------------------------------------------------\u001b[39m",
            "\u001b[31mNameError\u001b[39m                                 Traceback (most recent call last)",
            "\u001b[36mCell\u001b[39m\u001b[36m \u001b[39m\u001b[32mIn[9]\u001b[39m\u001b[32m, line 23\u001b[39m\n\u001b[32m     19\u001b[39m \u001b[38;5;28mprint\u001b[39m(\u001b[33mf\u001b[39m\u001b[33m\"\u001b[39m\u001b[33m📊 Создан тестовый датасет с метаданными: \u001b[39m\u001b[38;5;132;01m{\u001b[39;00m\u001b[38;5;28mlen\u001b[39m(test_df_with_metadata)\u001b[38;5;132;01m}\u001b[39;00m\u001b[33m записей\u001b[39m\u001b[33m\"\u001b[39m)\n\u001b[32m     21\u001b[39m \u001b[38;5;66;03m# Визуализация траекторий циклонов\u001b[39;00m\n\u001b[32m     22\u001b[39m results = model_evaluator.visualize_cyclones(\n\u001b[32m---> \u001b[39m\u001b[32m23\u001b[39m     model=\u001b[43mmodel\u001b[49m,\n\u001b[32m     24\u001b[39m     test_data=test_df_with_metadata,\n\u001b[32m     25\u001b[39m     horizons=[\u001b[32m6\u001b[39m, \u001b[32m24\u001b[39m, \u001b[32m48\u001b[39m],\n\u001b[32m     26\u001b[39m     num_cyclones=\u001b[32m5\u001b[39m,\n\u001b[32m     27\u001b[39m     save_maps=\u001b[38;5;28;01mTrue\u001b[39;00m,\n\u001b[32m     28\u001b[39m     display_in_notebook=\u001b[38;5;28;01mTrue\u001b[39;00m\n\u001b[32m     29\u001b[39m )\n",
            "\u001b[31mNameError\u001b[39m: name 'model' is not defined"
          ]
        }
      ],
      "source": [
        "import pandas as pd\n",
        "\n",
        "\n",
        "test_df_with_metadata = pd.concat([\n",
        "    data['intl_ids'][data['mask_test']].reset_index(drop=True),\n",
        "    data['storm_names'][data['mask_test']].reset_index(drop=True),\n",
        "    data['times'][data['mask_test']].reset_index(drop=True),\n",
        "    X_test.reset_index(drop=True),\n",
        "    y_test.reset_index(drop=True),\n",
        "], axis=1)\n",
        "\n",
        "# Переименовываем колонки для корректной работы\n",
        "test_df_with_metadata = test_df_with_metadata.rename(columns={\n",
        "    0: 'intl_id',\n",
        "    1: 'storm_name', \n",
        "    2: 'analysis_time'\n",
        "})\n",
        "\n",
        "print(f\"📊 Создан тестовый датасет с метаданными: {len(test_df_with_metadata)} записей\")\n",
        "\n",
        "# Визуализация траекторий циклонов\n",
        "results = model_evaluator.visualize_cyclones(\n",
        "    model=model,\n",
        "    test_data=test_df_with_metadata,\n",
        "    horizons=[6, 24, 48],\n",
        "    num_cyclones=5,\n",
        "    save_maps=True,\n",
        "    display_in_notebook=True\n",
        ")"
      ]
    },
    {
      "cell_type": "code",
      "execution_count": null,
      "metadata": {},
      "outputs": [],
      "source": []
    },
    {
      "cell_type": "code",
      "execution_count": null,
      "metadata": {},
      "outputs": [],
      "source": []
    }
  ],
  "metadata": {
    "kernelspec": {
      "display_name": ".venv",
      "language": "python",
      "name": "python3"
    },
    "language_info": {
      "codemirror_mode": {
        "name": "ipython",
        "version": 3
      },
      "file_extension": ".py",
      "mimetype": "text/x-python",
      "name": "python",
      "nbconvert_exporter": "python",
      "pygments_lexer": "ipython3",
      "version": "3.12.11"
    }
  },
  "nbformat": 4,
  "nbformat_minor": 2
}
