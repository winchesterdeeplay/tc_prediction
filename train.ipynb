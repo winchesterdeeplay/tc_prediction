{
 "cells": [
  {
   "cell_type": "code",
   "execution_count": null,
   "id": "1328780e",
   "metadata": {},
   "outputs": [
    {
     "name": "stderr",
     "output_type": "stream",
     "text": [
      "/Users/sparking/Code/tc/.venv/lib/python3.12/site-packages/tqdm/auto.py:21: TqdmWarning: IProgress not found. Please update jupyter and ipywidgets. See https://ipywidgets.readthedocs.io/en/stable/user_install.html\n",
      "  from .autonotebook import tqdm as notebook_tqdm\n"
     ]
    }
   ],
   "source": [
    "import warnings\n",
    "import pandas as pd\n",
    "import pytorch_lightning as pl\n",
    "from tqdm.auto import tqdm\n",
    "from evaluation.visualization import print_sequence_table\n",
    "\n",
    "warnings.filterwarnings(\"ignore\")\n",
    "tqdm.pandas()"
   ]
  },
  {
   "cell_type": "code",
   "execution_count": 2,
   "id": "706fabff",
   "metadata": {},
   "outputs": [
    {
     "name": "stdout",
     "output_type": "stream",
     "text": [
      "✅ Загружено 70,217 записей из Best Track данных\n",
      "📊 Уникальных циклонов: 1924\n",
      "📅 Временной диапазон: 1951-02-19 06:00:00 - 2024-12-25 12:00:00\n"
     ]
    }
   ],
   "source": [
    "df = pd.read_csv(\"bst_data/bst_all.csv\")\n",
    "print(f\"✅ Загружено {len(df):,} записей из Best Track данных\")\n",
    "print(f\"📊 Уникальных циклонов: {df['intl_id'].nunique()}\")\n",
    "print(f\"📅 Временной диапазон: {df['analysis_time'].min()} - {df['analysis_time'].max()}\")"
   ]
  },
  {
   "cell_type": "code",
   "execution_count": 3,
   "id": "10681aa0",
   "metadata": {},
   "outputs": [
    {
     "name": "stdout",
     "output_type": "stream",
     "text": [
      "DataProcessor: dropped 1694 rows with missing values\n",
      "Dataset validation: 68523 rows, 7 columns\n"
     ]
    },
    {
     "name": "stderr",
     "output_type": "stream",
     "text": [
      "Creating training examples: 100%|██████████| 1846/1846 [11:24<00:00,  2.70it/s]\n"
     ]
    }
   ],
   "source": [
    "from data_processing.data_processor import DataProcessor\n",
    "from data_processing.dataset_models import SequenceConfig\n",
    "from data_processing.dataset_utils import split_data_by_years\n",
    "\n",
    "sequence_config = SequenceConfig(\n",
    "    min_history_length=2,\n",
    "    max_history_length=None,\n",
    ")\n",
    "\n",
    "processor = DataProcessor(\n",
    "    horizons_hours=[6, 12, 18, 24, 30, 36, 42, 48],\n",
    "    # horizons_hours=[6, 24, 48],\n",
    "    sequence_config=sequence_config,\n",
    "    train_max_year=2021,\n",
    "    val_max_year=2023,\n",
    "    validate_data=True,\n",
    ")\n",
    "\n",
    "dataset = processor.build_dataset(df)"
   ]
  },
  {
   "cell_type": "code",
   "execution_count": 13,
   "id": "a2f4d53b",
   "metadata": {},
   "outputs": [],
   "source": [
    "X_train, y_train, X_val, y_val, X_test, y_test = split_data_by_years(\n",
    "    dataset.X, dataset.y, dataset.times, train_max_year=2020, val_max_year=2022\n",
    ")"
   ]
  },
  {
   "cell_type": "code",
   "execution_count": 14,
   "id": "076fd96d",
   "metadata": {},
   "outputs": [
    {
     "data": {
      "text/plain": [
       "434745"
      ]
     },
     "execution_count": 14,
     "metadata": {},
     "output_type": "execute_result"
    }
   ],
   "source": [
    "len(X_train)"
   ]
  },
  {
   "cell_type": "code",
   "execution_count": 15,
   "id": "0ff08d60",
   "metadata": {},
   "outputs": [
    {
     "name": "stdout",
     "output_type": "stream",
     "text": [
      "📊 Таблица последовательностей\n",
      "================================================================================\n",
      "\n",
      "🔹 Seq_0\n",
      "------------------------------------------------------------\n",
      "Размер: 2 шагов × 9 признаков\n",
      "+-------+-----------+-----------+------------+--------------+----------------+----------------+-----------+--------------------+--------------------+\n",
      "|       |   lat_deg |   lon_deg |   pressure |   wind_speed |   velocity_lat |   velocity_lon |   bearing |   acceleration_lat |   acceleration_lon |\n",
      "+=======+===========+===========+============+==============+================+================+===========+====================+====================+\n",
      "| Шаг 1 |     8.800 |   137.500 |   1004.000 |        2.000 |          0.000 |          0.000 |     0.000 |              0.000 |              0.000 |\n",
      "+-------+-----------+-----------+------------+--------------+----------------+----------------+-----------+--------------------+--------------------+\n",
      "| Шаг 2 |     9.700 |   136.000 |   1004.000 |        2.000 |         32.109 |        301.414 |     0.000 |              0.000 |              0.000 |\n",
      "+-------+-----------+-----------+------------+--------------+----------------+----------------+-----------+--------------------+--------------------+\n",
      "\n",
      "📈 Статистика по признакам:\n",
      "+-------+-----------+-----------+------------+--------------+----------------+----------------+-----------+--------------------+--------------------+\n",
      "|       |   lat_deg |   lon_deg |   pressure |   wind_speed |   velocity_lat |   velocity_lon |   bearing |   acceleration_lat |   acceleration_lon |\n",
      "+=======+===========+===========+============+==============+================+================+===========+====================+====================+\n",
      "| count |     2.000 |     2.000 |      2.000 |        2.000 |          2.000 |          2.000 |     2.000 |              2.000 |              2.000 |\n",
      "+-------+-----------+-----------+------------+--------------+----------------+----------------+-----------+--------------------+--------------------+\n",
      "| mean  |     9.250 |   136.750 |   1004.000 |        2.000 |         16.054 |        150.707 |     0.000 |              0.000 |              0.000 |\n",
      "+-------+-----------+-----------+------------+--------------+----------------+----------------+-----------+--------------------+--------------------+\n",
      "| std   |     0.636 |     1.061 |      0.000 |        0.000 |         22.704 |        213.132 |     0.000 |              0.000 |              0.000 |\n",
      "+-------+-----------+-----------+------------+--------------+----------------+----------------+-----------+--------------------+--------------------+\n",
      "| min   |     8.800 |   136.000 |   1004.000 |        2.000 |          0.000 |          0.000 |     0.000 |              0.000 |              0.000 |\n",
      "+-------+-----------+-----------+------------+--------------+----------------+----------------+-----------+--------------------+--------------------+\n",
      "| 25%   |     9.025 |   136.375 |   1004.000 |        2.000 |          8.027 |         75.354 |     0.000 |              0.000 |              0.000 |\n",
      "+-------+-----------+-----------+------------+--------------+----------------+----------------+-----------+--------------------+--------------------+\n",
      "| 50%   |     9.250 |   136.750 |   1004.000 |        2.000 |         16.054 |        150.707 |     0.000 |              0.000 |              0.000 |\n",
      "+-------+-----------+-----------+------------+--------------+----------------+----------------+-----------+--------------------+--------------------+\n",
      "| 75%   |     9.475 |   137.125 |   1004.000 |        2.000 |         24.082 |        226.061 |     0.000 |              0.000 |              0.000 |\n",
      "+-------+-----------+-----------+------------+--------------+----------------+----------------+-----------+--------------------+--------------------+\n",
      "| max   |     9.700 |   137.500 |   1004.000 |        2.000 |         32.109 |        301.414 |     0.000 |              0.000 |              0.000 |\n",
      "+-------+-----------+-----------+------------+--------------+----------------+----------------+-----------+--------------------+--------------------+\n"
     ]
    }
   ],
   "source": [
    "print_sequence_table(X_train[\"sequences\"][0])"
   ]
  },
  {
   "cell_type": "code",
   "execution_count": 16,
   "id": "97e91f71",
   "metadata": {},
   "outputs": [
    {
     "name": "stdout",
     "output_type": "stream",
     "text": [
      "📊 Таблица последовательностей\n",
      "================================================================================\n",
      "\n",
      "🔹 Seq_0\n",
      "------------------------------------------------------------\n",
      "Размер: 3 шагов × 9 признаков\n",
      "+-------+-----------+-----------+------------+--------------+----------------+----------------+-----------+--------------------+--------------------+\n",
      "|       |   lat_deg |   lon_deg |   pressure |   wind_speed |   velocity_lat |   velocity_lon |   bearing |   acceleration_lat |   acceleration_lon |\n",
      "+=======+===========+===========+============+==============+================+================+===========+====================+====================+\n",
      "| Шаг 1 |     8.800 |   137.500 |   1004.000 |        2.000 |          0.000 |          0.000 |     0.000 |              0.000 |              0.000 |\n",
      "+-------+-----------+-----------+------------+--------------+----------------+----------------+-----------+--------------------+--------------------+\n",
      "| Шаг 2 |     9.700 |   136.000 |   1004.000 |        2.000 |         32.109 |        301.414 |     0.000 |              0.000 |              0.000 |\n",
      "+-------+-----------+-----------+------------+--------------+----------------+----------------+-----------+--------------------+--------------------+\n",
      "| Шаг 3 |     9.900 |   135.000 |   1004.000 |        2.000 |         18.634 |        281.558 |    -2.246 |             -3.309 |              0.000 |\n",
      "+-------+-----------+-----------+------------+--------------+----------------+----------------+-----------+--------------------+--------------------+\n",
      "\n",
      "📈 Статистика по признакам:\n",
      "+-------+-----------+-----------+------------+--------------+----------------+----------------+-----------+--------------------+--------------------+\n",
      "|       |   lat_deg |   lon_deg |   pressure |   wind_speed |   velocity_lat |   velocity_lon |   bearing |   acceleration_lat |   acceleration_lon |\n",
      "+=======+===========+===========+============+==============+================+================+===========+====================+====================+\n",
      "| count |     3.000 |     3.000 |      3.000 |        3.000 |          3.000 |          3.000 |     3.000 |              3.000 |              3.000 |\n",
      "+-------+-----------+-----------+------------+--------------+----------------+----------------+-----------+--------------------+--------------------+\n",
      "| mean  |     9.467 |   136.167 |   1004.000 |        2.000 |         16.914 |        194.324 |    -0.749 |             -1.103 |              0.000 |\n",
      "+-------+-----------+-----------+------------+--------------+----------------+----------------+-----------+--------------------+--------------------+\n",
      "| std   |     0.586 |     1.258 |      0.000 |        0.000 |         16.123 |        168.582 |     1.297 |              1.911 |              0.000 |\n",
      "+-------+-----------+-----------+------------+--------------+----------------+----------------+-----------+--------------------+--------------------+\n",
      "| min   |     8.800 |   135.000 |   1004.000 |        2.000 |          0.000 |          0.000 |    -2.246 |             -3.309 |              0.000 |\n",
      "+-------+-----------+-----------+------------+--------------+----------------+----------------+-----------+--------------------+--------------------+\n",
      "| 25%   |     9.250 |   135.500 |   1004.000 |        2.000 |          9.317 |        140.779 |    -1.123 |             -1.655 |              0.000 |\n",
      "+-------+-----------+-----------+------------+--------------+----------------+----------------+-----------+--------------------+--------------------+\n",
      "| 50%   |     9.700 |   136.000 |   1004.000 |        2.000 |         18.634 |        281.558 |     0.000 |              0.000 |              0.000 |\n",
      "+-------+-----------+-----------+------------+--------------+----------------+----------------+-----------+--------------------+--------------------+\n",
      "| 75%   |     9.800 |   136.750 |   1004.000 |        2.000 |         25.372 |        291.486 |     0.000 |              0.000 |              0.000 |\n",
      "+-------+-----------+-----------+------------+--------------+----------------+----------------+-----------+--------------------+--------------------+\n",
      "| max   |     9.900 |   137.500 |   1004.000 |        2.000 |         32.109 |        301.414 |     0.000 |              0.000 |              0.000 |\n",
      "+-------+-----------+-----------+------------+--------------+----------------+----------------+-----------+--------------------+--------------------+\n"
     ]
    }
   ],
   "source": [
    "print_sequence_table(X_train[\"sequences\"][8])"
   ]
  },
  {
   "cell_type": "code",
   "execution_count": 17,
   "id": "7e7e8c87",
   "metadata": {},
   "outputs": [
    {
     "data": {
      "text/html": [
       "<div>\n",
       "<style scoped>\n",
       "    .dataframe tbody tr th:only-of-type {\n",
       "        vertical-align: middle;\n",
       "    }\n",
       "\n",
       "    .dataframe tbody tr th {\n",
       "        vertical-align: top;\n",
       "    }\n",
       "\n",
       "    .dataframe thead th {\n",
       "        text-align: right;\n",
       "    }\n",
       "</style>\n",
       "<table border=\"1\" class=\"dataframe\">\n",
       "  <thead>\n",
       "    <tr style=\"text-align: right;\">\n",
       "      <th></th>\n",
       "      <th>sequences</th>\n",
       "      <th>analysis_time</th>\n",
       "      <th>intl_id</th>\n",
       "      <th>storm_name</th>\n",
       "      <th>target_time_hours</th>\n",
       "      <th>day_of_year_sin</th>\n",
       "      <th>day_of_year_cos</th>\n",
       "      <th>month_of_year_sin</th>\n",
       "      <th>month_of_year_cos</th>\n",
       "    </tr>\n",
       "  </thead>\n",
       "  <tbody>\n",
       "    <tr>\n",
       "      <th>0</th>\n",
       "      <td>[[8.8, 137.5, 1004.0, 2.0, 0.0, 0.0, 0.0, 0.0,...</td>\n",
       "      <td>2000-05-05</td>\n",
       "      <td>1</td>\n",
       "      <td>6 DAMREY</td>\n",
       "      <td>6.0</td>\n",
       "      <td>0.829677</td>\n",
       "      <td>-0.558244</td>\n",
       "      <td>0.5</td>\n",
       "      <td>-0.866025</td>\n",
       "    </tr>\n",
       "    <tr>\n",
       "      <th>1</th>\n",
       "      <td>[[8.8, 137.5, 1004.0, 2.0, 0.0, 0.0, 0.0, 0.0,...</td>\n",
       "      <td>2000-05-05</td>\n",
       "      <td>1</td>\n",
       "      <td>6 DAMREY</td>\n",
       "      <td>12.0</td>\n",
       "      <td>0.829677</td>\n",
       "      <td>-0.558244</td>\n",
       "      <td>0.5</td>\n",
       "      <td>-0.866025</td>\n",
       "    </tr>\n",
       "    <tr>\n",
       "      <th>2</th>\n",
       "      <td>[[8.8, 137.5, 1004.0, 2.0, 0.0, 0.0, 0.0, 0.0,...</td>\n",
       "      <td>2000-05-05</td>\n",
       "      <td>1</td>\n",
       "      <td>6 DAMREY</td>\n",
       "      <td>18.0</td>\n",
       "      <td>0.829677</td>\n",
       "      <td>-0.558244</td>\n",
       "      <td>0.5</td>\n",
       "      <td>-0.866025</td>\n",
       "    </tr>\n",
       "    <tr>\n",
       "      <th>3</th>\n",
       "      <td>[[8.8, 137.5, 1004.0, 2.0, 0.0, 0.0, 0.0, 0.0,...</td>\n",
       "      <td>2000-05-05</td>\n",
       "      <td>1</td>\n",
       "      <td>6 DAMREY</td>\n",
       "      <td>24.0</td>\n",
       "      <td>0.829677</td>\n",
       "      <td>-0.558244</td>\n",
       "      <td>0.5</td>\n",
       "      <td>-0.866025</td>\n",
       "    </tr>\n",
       "    <tr>\n",
       "      <th>4</th>\n",
       "      <td>[[8.8, 137.5, 1004.0, 2.0, 0.0, 0.0, 0.0, 0.0,...</td>\n",
       "      <td>2000-05-05</td>\n",
       "      <td>1</td>\n",
       "      <td>6 DAMREY</td>\n",
       "      <td>30.0</td>\n",
       "      <td>0.829677</td>\n",
       "      <td>-0.558244</td>\n",
       "      <td>0.5</td>\n",
       "      <td>-0.866025</td>\n",
       "    </tr>\n",
       "    <tr>\n",
       "      <th>5</th>\n",
       "      <td>[[8.8, 137.5, 1004.0, 2.0, 0.0, 0.0, 0.0, 0.0,...</td>\n",
       "      <td>2000-05-05</td>\n",
       "      <td>1</td>\n",
       "      <td>6 DAMREY</td>\n",
       "      <td>36.0</td>\n",
       "      <td>0.829677</td>\n",
       "      <td>-0.558244</td>\n",
       "      <td>0.5</td>\n",
       "      <td>-0.866025</td>\n",
       "    </tr>\n",
       "    <tr>\n",
       "      <th>6</th>\n",
       "      <td>[[8.8, 137.5, 1004.0, 2.0, 0.0, 0.0, 0.0, 0.0,...</td>\n",
       "      <td>2000-05-05</td>\n",
       "      <td>1</td>\n",
       "      <td>6 DAMREY</td>\n",
       "      <td>42.0</td>\n",
       "      <td>0.829677</td>\n",
       "      <td>-0.558244</td>\n",
       "      <td>0.5</td>\n",
       "      <td>-0.866025</td>\n",
       "    </tr>\n",
       "    <tr>\n",
       "      <th>7</th>\n",
       "      <td>[[8.8, 137.5, 1004.0, 2.0, 0.0, 0.0, 0.0, 0.0,...</td>\n",
       "      <td>2000-05-05</td>\n",
       "      <td>1</td>\n",
       "      <td>6 DAMREY</td>\n",
       "      <td>48.0</td>\n",
       "      <td>0.829677</td>\n",
       "      <td>-0.558244</td>\n",
       "      <td>0.5</td>\n",
       "      <td>-0.866025</td>\n",
       "    </tr>\n",
       "  </tbody>\n",
       "</table>\n",
       "</div>"
      ],
      "text/plain": [
       "                                           sequences analysis_time  intl_id  \\\n",
       "0  [[8.8, 137.5, 1004.0, 2.0, 0.0, 0.0, 0.0, 0.0,...    2000-05-05        1   \n",
       "1  [[8.8, 137.5, 1004.0, 2.0, 0.0, 0.0, 0.0, 0.0,...    2000-05-05        1   \n",
       "2  [[8.8, 137.5, 1004.0, 2.0, 0.0, 0.0, 0.0, 0.0,...    2000-05-05        1   \n",
       "3  [[8.8, 137.5, 1004.0, 2.0, 0.0, 0.0, 0.0, 0.0,...    2000-05-05        1   \n",
       "4  [[8.8, 137.5, 1004.0, 2.0, 0.0, 0.0, 0.0, 0.0,...    2000-05-05        1   \n",
       "5  [[8.8, 137.5, 1004.0, 2.0, 0.0, 0.0, 0.0, 0.0,...    2000-05-05        1   \n",
       "6  [[8.8, 137.5, 1004.0, 2.0, 0.0, 0.0, 0.0, 0.0,...    2000-05-05        1   \n",
       "7  [[8.8, 137.5, 1004.0, 2.0, 0.0, 0.0, 0.0, 0.0,...    2000-05-05        1   \n",
       "\n",
       "  storm_name  target_time_hours  day_of_year_sin  day_of_year_cos  \\\n",
       "0   6 DAMREY                6.0         0.829677        -0.558244   \n",
       "1   6 DAMREY               12.0         0.829677        -0.558244   \n",
       "2   6 DAMREY               18.0         0.829677        -0.558244   \n",
       "3   6 DAMREY               24.0         0.829677        -0.558244   \n",
       "4   6 DAMREY               30.0         0.829677        -0.558244   \n",
       "5   6 DAMREY               36.0         0.829677        -0.558244   \n",
       "6   6 DAMREY               42.0         0.829677        -0.558244   \n",
       "7   6 DAMREY               48.0         0.829677        -0.558244   \n",
       "\n",
       "   month_of_year_sin  month_of_year_cos  \n",
       "0                0.5          -0.866025  \n",
       "1                0.5          -0.866025  \n",
       "2                0.5          -0.866025  \n",
       "3                0.5          -0.866025  \n",
       "4                0.5          -0.866025  \n",
       "5                0.5          -0.866025  \n",
       "6                0.5          -0.866025  \n",
       "7                0.5          -0.866025  "
      ]
     },
     "execution_count": 17,
     "metadata": {},
     "output_type": "execute_result"
    }
   ],
   "source": [
    "X_train[:8]"
   ]
  },
  {
   "cell_type": "code",
   "execution_count": 18,
   "id": "85aaf43e",
   "metadata": {},
   "outputs": [
    {
     "data": {
      "text/html": [
       "<div>\n",
       "<style scoped>\n",
       "    .dataframe tbody tr th:only-of-type {\n",
       "        vertical-align: middle;\n",
       "    }\n",
       "\n",
       "    .dataframe tbody tr th {\n",
       "        vertical-align: top;\n",
       "    }\n",
       "\n",
       "    .dataframe thead th {\n",
       "        text-align: right;\n",
       "    }\n",
       "</style>\n",
       "<table border=\"1\" class=\"dataframe\">\n",
       "  <thead>\n",
       "    <tr style=\"text-align: right;\">\n",
       "      <th></th>\n",
       "      <th>dlat_target</th>\n",
       "      <th>dlon_target</th>\n",
       "    </tr>\n",
       "  </thead>\n",
       "  <tbody>\n",
       "    <tr>\n",
       "      <th>0</th>\n",
       "      <td>0.2</td>\n",
       "      <td>-1.0</td>\n",
       "    </tr>\n",
       "    <tr>\n",
       "      <th>1</th>\n",
       "      <td>0.5</td>\n",
       "      <td>-1.6</td>\n",
       "    </tr>\n",
       "    <tr>\n",
       "      <th>2</th>\n",
       "      <td>1.0</td>\n",
       "      <td>-2.3</td>\n",
       "    </tr>\n",
       "    <tr>\n",
       "      <th>3</th>\n",
       "      <td>1.4</td>\n",
       "      <td>-3.0</td>\n",
       "    </tr>\n",
       "    <tr>\n",
       "      <th>4</th>\n",
       "      <td>2.1</td>\n",
       "      <td>-3.8</td>\n",
       "    </tr>\n",
       "    <tr>\n",
       "      <th>5</th>\n",
       "      <td>2.8</td>\n",
       "      <td>-3.8</td>\n",
       "    </tr>\n",
       "    <tr>\n",
       "      <th>6</th>\n",
       "      <td>3.3</td>\n",
       "      <td>-4.2</td>\n",
       "    </tr>\n",
       "    <tr>\n",
       "      <th>7</th>\n",
       "      <td>3.5</td>\n",
       "      <td>-4.4</td>\n",
       "    </tr>\n",
       "  </tbody>\n",
       "</table>\n",
       "</div>"
      ],
      "text/plain": [
       "   dlat_target  dlon_target\n",
       "0          0.2         -1.0\n",
       "1          0.5         -1.6\n",
       "2          1.0         -2.3\n",
       "3          1.4         -3.0\n",
       "4          2.1         -3.8\n",
       "5          2.8         -3.8\n",
       "6          3.3         -4.2\n",
       "7          3.5         -4.4"
      ]
     },
     "execution_count": 18,
     "metadata": {},
     "output_type": "execute_result"
    }
   ],
   "source": [
    "y_train[:8]"
   ]
  },
  {
   "cell_type": "code",
   "execution_count": 38,
   "id": "618e6a69",
   "metadata": {},
   "outputs": [
    {
     "name": "stderr",
     "output_type": "stream",
     "text": [
      "GPU available: True (mps), used: True\n",
      "TPU available: False, using: 0 TPU cores\n",
      "HPU available: False, using: 0 HPUs\n"
     ]
    }
   ],
   "source": [
    "from training import CycloneDataModule, calculate_sample_weights\n",
    "\n",
    "# from models.model import LightningCycloneModel\n",
    "from pytorch_lightning.callbacks import EarlyStopping, ModelCheckpoint, LearningRateMonitor\n",
    "import numpy as np\n",
    "from core.features import FeatureConfig\n",
    "\n",
    "feature_cfg = FeatureConfig()\n",
    "# sample_weight = calculate_sample_weights(X_train, strategy=\"no\")\n",
    "sample_weight = np.ones(len(X_train))\n",
    "\n",
    "data = CycloneDataModule(\n",
    "    X_train,\n",
    "    y_train,\n",
    "    X_val,\n",
    "    y_val,\n",
    "    sample_weight=sample_weight,\n",
    "    batch_size=512,\n",
    "    shuffle_batch=True,\n",
    "    shuffle_dataset=True,\n",
    "    shuffle_sequences=False,\n",
    "    normalize_sequences=True,\n",
    "    augment_data=True,\n",
    ")\n",
    "\n",
    "model = LightningCycloneModel(\n",
    "    sequence_feature_dim=len(feature_cfg.sequence_features),\n",
    "    static_feature_dim=len(feature_cfg.static_features),\n",
    "    hidden_dim=64,\n",
    "    learning_rate=1e-3,\n",
    "    warmup_epochs=3,\n",
    "    loss_fn=\"haversine\"\n",
    "    # loss_fn=\"horizon_aware_sector\",\n",
    "    # loss_fn=\"sector\",\n",
    "    # loss_fn=\"improved_sector\",\n",
    ")\n",
    "\n",
    "callbacks = [\n",
    "    EarlyStopping(monitor=\"val_loss\", patience=5, verbose=True, mode=\"min\"),\n",
    "    ModelCheckpoint(\n",
    "        monitor=\"val_loss\",\n",
    "        filename=\"best-{epoch:02d}-{val_loss:.2f}\",\n",
    "        save_top_k=1,\n",
    "        mode=\"min\",\n",
    "    ),\n",
    "    LearningRateMonitor(logging_interval=\"epoch\"),\n",
    "]\n",
    "\n",
    "trainer = pl.Trainer(\n",
    "    max_epochs=30,\n",
    "    callbacks=callbacks,\n",
    "    log_every_n_steps=10,\n",
    "    accelerator=\"auto\",\n",
    "    devices=\"auto\",\n",
    ")"
   ]
  },
  {
   "cell_type": "code",
   "execution_count": null,
   "id": "58bdf367",
   "metadata": {},
   "outputs": [
    {
     "name": "stdout",
     "output_type": "stream",
     "text": [
      "🚀 Начало обучения...\n"
     ]
    },
    {
     "name": "stderr",
     "output_type": "stream",
     "text": [
      "\n",
      "  | Name      | Type          | Params | Mode \n",
      "----------------------------------------------------\n",
      "0 | criterion | HaversineLoss | 0      | train\n",
      "1 | net       | NNLatLon      | 47.3 K | train\n",
      "----------------------------------------------------\n",
      "47.3 K    Trainable params\n",
      "0         Non-trainable params\n",
      "47.3 K    Total params\n",
      "0.189     Total estimated model params size (MB)\n",
      "21        Modules in train mode\n",
      "0         Modules in eval mode\n"
     ]
    },
    {
     "name": "stdout",
     "output_type": "stream",
     "text": [
      "Epoch 0: 100%|██████████| 850/850 [10:59<00:00,  1.29it/s, v_num=30, train_loss_step=409.0, val_loss_step=288.0, val_loss_epoch=352.0, val_p300_48h=20.70, train_loss_epoch=433.0]"
     ]
    },
    {
     "name": "stderr",
     "output_type": "stream",
     "text": [
      "Metric val_loss improved. New best score: 351.858\n"
     ]
    },
    {
     "name": "stdout",
     "output_type": "stream",
     "text": [
      "Epoch 1: 100%|██████████| 850/850 [06:17<00:00,  2.25it/s, v_num=30, train_loss_step=287.0, val_loss_step=259.0, val_loss_epoch=297.0, val_p300_48h=26.30, train_loss_epoch=313.0, train_p300_48h=24.00]"
     ]
    },
    {
     "name": "stderr",
     "output_type": "stream",
     "text": [
      "Metric val_loss improved by 54.804 >= min_delta = 0.0. New best score: 297.054\n"
     ]
    },
    {
     "name": "stdout",
     "output_type": "stream",
     "text": [
      "Epoch 2: 100%|██████████| 850/850 [05:54<00:00,  2.40it/s, v_num=30, train_loss_step=361.0, val_loss_step=234.0, val_loss_epoch=280.0, val_p300_48h=27.50, train_loss_epoch=288.0, train_p300_48h=31.20]"
     ]
    },
    {
     "name": "stderr",
     "output_type": "stream",
     "text": [
      "Metric val_loss improved by 16.875 >= min_delta = 0.0. New best score: 280.179\n"
     ]
    },
    {
     "name": "stdout",
     "output_type": "stream",
     "text": [
      "Epoch 3: 100%|██████████| 850/850 [07:08<00:00,  1.98it/s, v_num=30, train_loss_step=291.0, val_loss_step=204.0, val_loss_epoch=279.0, val_p300_48h=28.90, train_loss_epoch=275.0, train_p300_48h=33.10]"
     ]
    },
    {
     "name": "stderr",
     "output_type": "stream",
     "text": [
      "Metric val_loss improved by 1.554 >= min_delta = 0.0. New best score: 278.625\n"
     ]
    },
    {
     "name": "stdout",
     "output_type": "stream",
     "text": [
      "Epoch 6: 100%|██████████| 850/850 [04:38<00:00,  3.06it/s, v_num=30, train_loss_step=282.0, val_loss_step=247.0, val_loss_epoch=265.0, val_p300_48h=31.50, train_loss_epoch=260.0, train_p300_48h=35.00]"
     ]
    },
    {
     "name": "stderr",
     "output_type": "stream",
     "text": [
      "Metric val_loss improved by 14.030 >= min_delta = 0.0. New best score: 264.595\n"
     ]
    },
    {
     "name": "stdout",
     "output_type": "stream",
     "text": [
      "Epoch 9:  50%|█████     | 429/850 [02:40<02:37,  2.68it/s, v_num=30, train_loss_step=266.0, val_loss_step=189.0, val_loss_epoch=265.0, val_p300_48h=30.70, train_loss_epoch=256.0, train_p300_48h=34.50]"
     ]
    }
   ],
   "source": [
    "print(\"🚀 Начало обучения...\")\n",
    "trainer.fit(model, datamodule=data)"
   ]
  },
  {
   "cell_type": "code",
   "execution_count": 27,
   "id": "8bb302b3",
   "metadata": {},
   "outputs": [
    {
     "data": {
      "text/plain": [
       "9"
      ]
     },
     "execution_count": 27,
     "metadata": {},
     "output_type": "execute_result"
    }
   ],
   "source": [
    "len(feature_cfg.sequence_features)"
   ]
  },
  {
   "cell_type": "code",
   "execution_count": null,
   "id": "1224f266",
   "metadata": {},
   "outputs": [],
   "source": [
    "def horizon_split(X, y, horizon_hours):\n",
    "    idx = X[\"target_time_hours\"] == horizon_hours\n",
    "    return X[idx].reset_index(drop=True), y[idx].reset_index(drop=True)\n",
    "\n",
    "\n",
    "X_val6, y_val6 = horizon_split(X_val, y_val, 6)\n",
    "X_val12, y_val12 = horizon_split(X_val, y_val, 12)\n",
    "X_val24, y_val24 = horizon_split(X_val, y_val, 24)\n",
    "X_val48, y_val48 = horizon_split(X_val, y_val, 48)"
   ]
  },
  {
   "cell_type": "code",
   "execution_count": null,
   "id": "83e431be",
   "metadata": {},
   "outputs": [],
   "source": [
    "def horizon_split(X, y, horizon_hours):\n",
    "    idx = X[\"target_time_hours\"] == horizon_hours\n",
    "    return X[idx].reset_index(drop=True), y[idx].reset_index(drop=True)\n",
    "\n",
    "\n",
    "X_val6, y_val6 = horizon_split(X_val, y_val, 6)\n",
    "X_val12, y_val12 = horizon_split(X_val, y_val, 12)\n",
    "X_val24, y_val24 = horizon_split(X_val, y_val, 24)\n",
    "X_val48, y_val48 = horizon_split(X_val, y_val, 48)\n",
    "X_val72, y_val72 = horizon_split(X_val, y_val, 72)"
   ]
  },
  {
   "cell_type": "code",
   "execution_count": null,
   "id": "ee72cd01",
   "metadata": {},
   "outputs": [],
   "source": [
    "def horizon_split(X, y, horizon_hours):\n",
    "    idx = X[\"target_time_hours\"] == horizon_hours\n",
    "    return X[idx].reset_index(drop=True), y[idx].reset_index(drop=True)\n",
    "\n",
    "\n",
    "X_val6, y_val6 = horizon_split(X_val, y_val, 6)\n",
    "X_val12, y_val12 = horizon_split(X_val, y_val, 12)\n",
    "X_val24, y_val24 = horizon_split(X_val, y_val, 24)\n",
    "X_val48, y_val48 = horizon_split(X_val, y_val, 48)\n",
    "X_val72, y_val72 = horizon_split(X_val, y_val, 72)"
   ]
  },
  {
   "cell_type": "code",
   "execution_count": 13,
   "id": "d1542876",
   "metadata": {},
   "outputs": [
    {
     "name": "stdout",
     "output_type": "stream",
     "text": [
      "          Примеров  Средняя (км)  Медиана (км)  Макс. ошибка (км)  P<50 км(%)  P<100 км(%)  P<300 км(%)\n",
      "Горизонт                                                                                               \n",
      "6 ч           1487          52.9          42.7              322.2        59.4         88.7         99.9\n",
      "12 ч          1425         101.2          81.3              527.8        27.7         60.9         97.1\n",
      "24 ч          1312         218.7         177.6             1143.1         6.2         22.3         76.7\n",
      "48 ч          1109         481.9         381.9             2150.1         1.3          4.2         36.3\n"
     ]
    }
   ],
   "source": [
    "import pandas as pd\n",
    "from evaluation.evaluator import ModelEvaluator\n",
    "\n",
    "evaluator = ModelEvaluator()\n",
    "\n",
    "# Список (датафреймы, метка для вывода)\n",
    "horizon_sets = [\n",
    "    (X_val6, y_val6, \"6 ч\"),\n",
    "    (X_val12, y_val12, \"12 ч\"),\n",
    "    (X_val24, y_val24, \"24 ч\"),\n",
    "    (X_val48, y_val48, \"48 ч\"),\n",
    "]\n",
    "\n",
    "rows = []\n",
    "for X_h, y_h, label in horizon_sets:\n",
    "    res = evaluator.evaluate_horizon(model, X_h, y_h)\n",
    "    res[\"Горизонт\"] = label\n",
    "    rows.append(res)\n",
    "\n",
    "df = (\n",
    "    pd.DataFrame(rows)\n",
    "    .rename(\n",
    "        columns={\n",
    "            \"samples\": \"Примеров\",\n",
    "            \"mean_km\": \"Средняя (км)\",\n",
    "            \"median_km\": \"Медиана (км)\",\n",
    "            \"max_km\": \"Макс. ошибка (км)\",\n",
    "            \"p50\": \"P<50 км(%)\",\n",
    "            \"p100\": \"P<100 км(%)\",\n",
    "            \"p300\": \"P<300 км(%)\",\n",
    "        }\n",
    "    )\n",
    "    .set_index(\"Горизонт\")\n",
    "    .round(1)\n",
    ")\n",
    "\n",
    "print(df.to_string())"
   ]
  },
  {
   "cell_type": "code",
   "execution_count": 32,
   "id": "ce777256",
   "metadata": {},
   "outputs": [],
   "source": [
    "# from evaluation.visualization import plot_animated_trajectory\n",
    "\n",
    "# unique_cyclones = X_val[\"intl_id\"].unique()[:5]  # Первые 5 циклонов\n",
    "# for cyclone_id in unique_cyclones:\n",
    "#     print(f\"Визуализация циклона {cyclone_id}\")\n",
    "#     idx = X_val[\"target_time_hours\"] == 48.0\n",
    "#     plot_animated_trajectory(model, X_val[idx], y_val[idx], cyclone_id)"
   ]
  },
  {
   "cell_type": "code",
   "execution_count": 34,
   "id": "bd4ce0c9",
   "metadata": {},
   "outputs": [],
   "source": [
    "# from evaluation.visualization import plot_enhanced_trajectory\n",
    "\n",
    "# unique_cyclones = X_val[\"intl_id\"].unique()[:5]  # Первые 5 циклонов\n",
    "# for cyclone_id in unique_cyclones:\n",
    "#     print(f\"Визуализация циклона {cyclone_id}\")\n",
    "#     idx = X_val[\"target_time_hours\"] == 48.0\n",
    "#     plot_enhanced_trajectory(model, X_val[idx], y_val[idx], cyclone_id)"
   ]
  }
 ],
 "metadata": {
  "kernelspec": {
   "display_name": ".venv",
   "language": "python",
   "name": "python3"
  },
  "language_info": {
   "codemirror_mode": {
    "name": "ipython",
    "version": 3
   },
   "file_extension": ".py",
   "mimetype": "text/x-python",
   "name": "python",
   "nbconvert_exporter": "python",
   "pygments_lexer": "ipython3",
   "version": "3.12.11"
  }
 },
 "nbformat": 4,
 "nbformat_minor": 5
}
